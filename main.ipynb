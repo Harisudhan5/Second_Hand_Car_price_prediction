{
 "cells": [
  {
   "cell_type": "code",
   "execution_count": 1,
   "metadata": {},
   "outputs": [],
   "source": [
    "import tensorflow as tf\n",
    "from tensorflow.keras.layers import Normalization,Dense,InputLayer\n",
    "from tensorflow.keras.losses import MeanSquaredError,MeanAbsoluteError,Huber\n",
    "from tensorflow.keras.optimizers import Adam\n",
    "import pandas as pd\n",
    "import seaborn as sns\n",
    "from matplotlib import pyplot as plt "
   ]
  },
  {
   "cell_type": "code",
   "execution_count": 2,
   "metadata": {},
   "outputs": [
    {
     "data": {
      "text/html": [
       "<div>\n",
       "<style scoped>\n",
       "    .dataframe tbody tr th:only-of-type {\n",
       "        vertical-align: middle;\n",
       "    }\n",
       "\n",
       "    .dataframe tbody tr th {\n",
       "        vertical-align: top;\n",
       "    }\n",
       "\n",
       "    .dataframe thead th {\n",
       "        text-align: right;\n",
       "    }\n",
       "</style>\n",
       "<table border=\"1\" class=\"dataframe\">\n",
       "  <thead>\n",
       "    <tr style=\"text-align: right;\">\n",
       "      <th></th>\n",
       "      <th>v.id</th>\n",
       "      <th>on road old</th>\n",
       "      <th>on road now</th>\n",
       "      <th>years</th>\n",
       "      <th>km</th>\n",
       "      <th>rating</th>\n",
       "      <th>condition</th>\n",
       "      <th>economy</th>\n",
       "      <th>top speed</th>\n",
       "      <th>hp</th>\n",
       "      <th>torque</th>\n",
       "      <th>current price</th>\n",
       "    </tr>\n",
       "  </thead>\n",
       "  <tbody>\n",
       "    <tr>\n",
       "      <th>0</th>\n",
       "      <td>1</td>\n",
       "      <td>535651</td>\n",
       "      <td>798186</td>\n",
       "      <td>3</td>\n",
       "      <td>78945</td>\n",
       "      <td>1</td>\n",
       "      <td>2</td>\n",
       "      <td>14</td>\n",
       "      <td>177</td>\n",
       "      <td>73</td>\n",
       "      <td>123</td>\n",
       "      <td>351318.0</td>\n",
       "    </tr>\n",
       "    <tr>\n",
       "      <th>1</th>\n",
       "      <td>2</td>\n",
       "      <td>591911</td>\n",
       "      <td>861056</td>\n",
       "      <td>6</td>\n",
       "      <td>117220</td>\n",
       "      <td>5</td>\n",
       "      <td>9</td>\n",
       "      <td>9</td>\n",
       "      <td>148</td>\n",
       "      <td>74</td>\n",
       "      <td>95</td>\n",
       "      <td>285001.5</td>\n",
       "    </tr>\n",
       "    <tr>\n",
       "      <th>2</th>\n",
       "      <td>3</td>\n",
       "      <td>686990</td>\n",
       "      <td>770762</td>\n",
       "      <td>2</td>\n",
       "      <td>132538</td>\n",
       "      <td>2</td>\n",
       "      <td>8</td>\n",
       "      <td>15</td>\n",
       "      <td>181</td>\n",
       "      <td>53</td>\n",
       "      <td>97</td>\n",
       "      <td>215386.0</td>\n",
       "    </tr>\n",
       "    <tr>\n",
       "      <th>3</th>\n",
       "      <td>4</td>\n",
       "      <td>573999</td>\n",
       "      <td>722381</td>\n",
       "      <td>4</td>\n",
       "      <td>101065</td>\n",
       "      <td>4</td>\n",
       "      <td>3</td>\n",
       "      <td>11</td>\n",
       "      <td>197</td>\n",
       "      <td>54</td>\n",
       "      <td>116</td>\n",
       "      <td>244295.5</td>\n",
       "    </tr>\n",
       "    <tr>\n",
       "      <th>4</th>\n",
       "      <td>5</td>\n",
       "      <td>691388</td>\n",
       "      <td>811335</td>\n",
       "      <td>6</td>\n",
       "      <td>61559</td>\n",
       "      <td>3</td>\n",
       "      <td>9</td>\n",
       "      <td>12</td>\n",
       "      <td>160</td>\n",
       "      <td>53</td>\n",
       "      <td>105</td>\n",
       "      <td>531114.5</td>\n",
       "    </tr>\n",
       "  </tbody>\n",
       "</table>\n",
       "</div>"
      ],
      "text/plain": [
       "   v.id  on road old  on road now  years      km  rating  condition  economy  \\\n",
       "0     1       535651       798186      3   78945       1          2       14   \n",
       "1     2       591911       861056      6  117220       5          9        9   \n",
       "2     3       686990       770762      2  132538       2          8       15   \n",
       "3     4       573999       722381      4  101065       4          3       11   \n",
       "4     5       691388       811335      6   61559       3          9       12   \n",
       "\n",
       "   top speed  hp  torque  current price  \n",
       "0        177  73     123       351318.0  \n",
       "1        148  74      95       285001.5  \n",
       "2        181  53      97       215386.0  \n",
       "3        197  54     116       244295.5  \n",
       "4        160  53     105       531114.5  "
      ]
     },
     "execution_count": 2,
     "metadata": {},
     "output_type": "execute_result"
    }
   ],
   "source": [
    "data = pd.read_csv(\"C://Projects//Second Hand car price prediction//archive (1)//train.csv\")\n",
    "data.head()"
   ]
  },
  {
   "cell_type": "code",
   "execution_count": 3,
   "metadata": {},
   "outputs": [
    {
     "data": {
      "text/plain": [
       "(1000, 12)"
      ]
     },
     "execution_count": 3,
     "metadata": {},
     "output_type": "execute_result"
    }
   ],
   "source": [
    "data.shape"
   ]
  },
  {
   "cell_type": "code",
   "execution_count": 4,
   "metadata": {},
   "outputs": [
    {
     "data": {
      "text/html": [
       "<div>\n",
       "<style scoped>\n",
       "    .dataframe tbody tr th:only-of-type {\n",
       "        vertical-align: middle;\n",
       "    }\n",
       "\n",
       "    .dataframe tbody tr th {\n",
       "        vertical-align: top;\n",
       "    }\n",
       "\n",
       "    .dataframe thead th {\n",
       "        text-align: right;\n",
       "    }\n",
       "</style>\n",
       "<table border=\"1\" class=\"dataframe\">\n",
       "  <thead>\n",
       "    <tr style=\"text-align: right;\">\n",
       "      <th></th>\n",
       "      <th>years</th>\n",
       "      <th>km</th>\n",
       "      <th>rating</th>\n",
       "      <th>condition</th>\n",
       "      <th>economy</th>\n",
       "      <th>top speed</th>\n",
       "      <th>hp</th>\n",
       "      <th>torque</th>\n",
       "      <th>current price</th>\n",
       "    </tr>\n",
       "  </thead>\n",
       "  <tbody>\n",
       "    <tr>\n",
       "      <th>0</th>\n",
       "      <td>3</td>\n",
       "      <td>78945</td>\n",
       "      <td>1</td>\n",
       "      <td>2</td>\n",
       "      <td>14</td>\n",
       "      <td>177</td>\n",
       "      <td>73</td>\n",
       "      <td>123</td>\n",
       "      <td>351318.0</td>\n",
       "    </tr>\n",
       "    <tr>\n",
       "      <th>1</th>\n",
       "      <td>6</td>\n",
       "      <td>117220</td>\n",
       "      <td>5</td>\n",
       "      <td>9</td>\n",
       "      <td>9</td>\n",
       "      <td>148</td>\n",
       "      <td>74</td>\n",
       "      <td>95</td>\n",
       "      <td>285001.5</td>\n",
       "    </tr>\n",
       "    <tr>\n",
       "      <th>2</th>\n",
       "      <td>2</td>\n",
       "      <td>132538</td>\n",
       "      <td>2</td>\n",
       "      <td>8</td>\n",
       "      <td>15</td>\n",
       "      <td>181</td>\n",
       "      <td>53</td>\n",
       "      <td>97</td>\n",
       "      <td>215386.0</td>\n",
       "    </tr>\n",
       "    <tr>\n",
       "      <th>3</th>\n",
       "      <td>4</td>\n",
       "      <td>101065</td>\n",
       "      <td>4</td>\n",
       "      <td>3</td>\n",
       "      <td>11</td>\n",
       "      <td>197</td>\n",
       "      <td>54</td>\n",
       "      <td>116</td>\n",
       "      <td>244295.5</td>\n",
       "    </tr>\n",
       "    <tr>\n",
       "      <th>4</th>\n",
       "      <td>6</td>\n",
       "      <td>61559</td>\n",
       "      <td>3</td>\n",
       "      <td>9</td>\n",
       "      <td>12</td>\n",
       "      <td>160</td>\n",
       "      <td>53</td>\n",
       "      <td>105</td>\n",
       "      <td>531114.5</td>\n",
       "    </tr>\n",
       "  </tbody>\n",
       "</table>\n",
       "</div>"
      ],
      "text/plain": [
       "   years      km  rating  condition  economy  top speed  hp  torque  \\\n",
       "0      3   78945       1          2       14        177  73     123   \n",
       "1      6  117220       5          9        9        148  74      95   \n",
       "2      2  132538       2          8       15        181  53      97   \n",
       "3      4  101065       4          3       11        197  54     116   \n",
       "4      6   61559       3          9       12        160  53     105   \n",
       "\n",
       "   current price  \n",
       "0       351318.0  \n",
       "1       285001.5  \n",
       "2       215386.0  \n",
       "3       244295.5  \n",
       "4       531114.5  "
      ]
     },
     "execution_count": 4,
     "metadata": {},
     "output_type": "execute_result"
    }
   ],
   "source": [
    "data = data.drop([\"v.id\",\"on road now\",\"on road old\"],axis = 1)\n",
    "data.head()"
   ]
  },
  {
   "cell_type": "code",
   "execution_count": 5,
   "metadata": {},
   "outputs": [
    {
     "data": {
      "text/plain": [
       "Index(['years', 'km', 'rating', 'condition', 'economy', 'top speed', 'hp',\n",
       "       'torque', 'current price'],\n",
       "      dtype='object')"
      ]
     },
     "execution_count": 5,
     "metadata": {},
     "output_type": "execute_result"
    }
   ],
   "source": [
    "data.columns"
   ]
  },
  {
   "cell_type": "code",
   "execution_count": 6,
   "metadata": {},
   "outputs": [
    {
     "data": {
      "text/plain": [
       "years            0\n",
       "km               0\n",
       "rating           0\n",
       "condition        0\n",
       "economy          0\n",
       "top speed        0\n",
       "hp               0\n",
       "torque           0\n",
       "current price    0\n",
       "dtype: int64"
      ]
     },
     "execution_count": 6,
     "metadata": {},
     "output_type": "execute_result"
    }
   ],
   "source": [
    "data.isnull().sum()"
   ]
  },
  {
   "cell_type": "code",
   "execution_count": 7,
   "metadata": {},
   "outputs": [
    {
     "data": {
      "text/html": [
       "<div>\n",
       "<style scoped>\n",
       "    .dataframe tbody tr th:only-of-type {\n",
       "        vertical-align: middle;\n",
       "    }\n",
       "\n",
       "    .dataframe tbody tr th {\n",
       "        vertical-align: top;\n",
       "    }\n",
       "\n",
       "    .dataframe thead th {\n",
       "        text-align: right;\n",
       "    }\n",
       "</style>\n",
       "<table border=\"1\" class=\"dataframe\">\n",
       "  <thead>\n",
       "    <tr style=\"text-align: right;\">\n",
       "      <th></th>\n",
       "      <th>years</th>\n",
       "      <th>km</th>\n",
       "      <th>rating</th>\n",
       "      <th>condition</th>\n",
       "      <th>economy</th>\n",
       "      <th>top speed</th>\n",
       "      <th>hp</th>\n",
       "      <th>torque</th>\n",
       "      <th>current price</th>\n",
       "    </tr>\n",
       "  </thead>\n",
       "  <tbody>\n",
       "    <tr>\n",
       "      <th>0</th>\n",
       "      <td>3</td>\n",
       "      <td>78945</td>\n",
       "      <td>1</td>\n",
       "      <td>2</td>\n",
       "      <td>14</td>\n",
       "      <td>177</td>\n",
       "      <td>73</td>\n",
       "      <td>123</td>\n",
       "      <td>351318.0</td>\n",
       "    </tr>\n",
       "    <tr>\n",
       "      <th>1</th>\n",
       "      <td>6</td>\n",
       "      <td>117220</td>\n",
       "      <td>5</td>\n",
       "      <td>9</td>\n",
       "      <td>9</td>\n",
       "      <td>148</td>\n",
       "      <td>74</td>\n",
       "      <td>95</td>\n",
       "      <td>285001.5</td>\n",
       "    </tr>\n",
       "    <tr>\n",
       "      <th>2</th>\n",
       "      <td>2</td>\n",
       "      <td>132538</td>\n",
       "      <td>2</td>\n",
       "      <td>8</td>\n",
       "      <td>15</td>\n",
       "      <td>181</td>\n",
       "      <td>53</td>\n",
       "      <td>97</td>\n",
       "      <td>215386.0</td>\n",
       "    </tr>\n",
       "    <tr>\n",
       "      <th>3</th>\n",
       "      <td>4</td>\n",
       "      <td>101065</td>\n",
       "      <td>4</td>\n",
       "      <td>3</td>\n",
       "      <td>11</td>\n",
       "      <td>197</td>\n",
       "      <td>54</td>\n",
       "      <td>116</td>\n",
       "      <td>244295.5</td>\n",
       "    </tr>\n",
       "    <tr>\n",
       "      <th>4</th>\n",
       "      <td>6</td>\n",
       "      <td>61559</td>\n",
       "      <td>3</td>\n",
       "      <td>9</td>\n",
       "      <td>12</td>\n",
       "      <td>160</td>\n",
       "      <td>53</td>\n",
       "      <td>105</td>\n",
       "      <td>531114.5</td>\n",
       "    </tr>\n",
       "    <tr>\n",
       "      <th>...</th>\n",
       "      <td>...</td>\n",
       "      <td>...</td>\n",
       "      <td>...</td>\n",
       "      <td>...</td>\n",
       "      <td>...</td>\n",
       "      <td>...</td>\n",
       "      <td>...</td>\n",
       "      <td>...</td>\n",
       "      <td>...</td>\n",
       "    </tr>\n",
       "    <tr>\n",
       "      <th>995</th>\n",
       "      <td>5</td>\n",
       "      <td>125092</td>\n",
       "      <td>1</td>\n",
       "      <td>6</td>\n",
       "      <td>11</td>\n",
       "      <td>171</td>\n",
       "      <td>95</td>\n",
       "      <td>97</td>\n",
       "      <td>190744.0</td>\n",
       "    </tr>\n",
       "    <tr>\n",
       "      <th>996</th>\n",
       "      <td>4</td>\n",
       "      <td>83370</td>\n",
       "      <td>2</td>\n",
       "      <td>9</td>\n",
       "      <td>14</td>\n",
       "      <td>161</td>\n",
       "      <td>101</td>\n",
       "      <td>120</td>\n",
       "      <td>419748.0</td>\n",
       "    </tr>\n",
       "    <tr>\n",
       "      <th>997</th>\n",
       "      <td>7</td>\n",
       "      <td>86722</td>\n",
       "      <td>1</td>\n",
       "      <td>8</td>\n",
       "      <td>9</td>\n",
       "      <td>196</td>\n",
       "      <td>113</td>\n",
       "      <td>89</td>\n",
       "      <td>405871.0</td>\n",
       "    </tr>\n",
       "    <tr>\n",
       "      <th>998</th>\n",
       "      <td>2</td>\n",
       "      <td>140478</td>\n",
       "      <td>4</td>\n",
       "      <td>5</td>\n",
       "      <td>9</td>\n",
       "      <td>184</td>\n",
       "      <td>112</td>\n",
       "      <td>128</td>\n",
       "      <td>74398.0</td>\n",
       "    </tr>\n",
       "    <tr>\n",
       "      <th>999</th>\n",
       "      <td>5</td>\n",
       "      <td>67295</td>\n",
       "      <td>4</td>\n",
       "      <td>2</td>\n",
       "      <td>8</td>\n",
       "      <td>199</td>\n",
       "      <td>99</td>\n",
       "      <td>96</td>\n",
       "      <td>414938.5</td>\n",
       "    </tr>\n",
       "  </tbody>\n",
       "</table>\n",
       "<p>1000 rows × 9 columns</p>\n",
       "</div>"
      ],
      "text/plain": [
       "     years      km  rating  condition  economy  top speed   hp  torque  \\\n",
       "0        3   78945       1          2       14        177   73     123   \n",
       "1        6  117220       5          9        9        148   74      95   \n",
       "2        2  132538       2          8       15        181   53      97   \n",
       "3        4  101065       4          3       11        197   54     116   \n",
       "4        6   61559       3          9       12        160   53     105   \n",
       "..     ...     ...     ...        ...      ...        ...  ...     ...   \n",
       "995      5  125092       1          6       11        171   95      97   \n",
       "996      4   83370       2          9       14        161  101     120   \n",
       "997      7   86722       1          8        9        196  113      89   \n",
       "998      2  140478       4          5        9        184  112     128   \n",
       "999      5   67295       4          2        8        199   99      96   \n",
       "\n",
       "     current price  \n",
       "0         351318.0  \n",
       "1         285001.5  \n",
       "2         215386.0  \n",
       "3         244295.5  \n",
       "4         531114.5  \n",
       "..             ...  \n",
       "995       190744.0  \n",
       "996       419748.0  \n",
       "997       405871.0  \n",
       "998        74398.0  \n",
       "999       414938.5  \n",
       "\n",
       "[1000 rows x 9 columns]"
      ]
     },
     "execution_count": 7,
     "metadata": {},
     "output_type": "execute_result"
    }
   ],
   "source": [
    "data"
   ]
  },
  {
   "cell_type": "code",
   "execution_count": 8,
   "metadata": {},
   "outputs": [
    {
     "name": "stdout",
     "output_type": "stream",
     "text": [
      "tf.Tensor(\n",
      "[[3.000000e+00 7.894500e+04 1.000000e+00 ... 7.300000e+01 1.230000e+02\n",
      "  3.513180e+05]\n",
      " [6.000000e+00 1.172200e+05 5.000000e+00 ... 7.400000e+01 9.500000e+01\n",
      "  2.850015e+05]\n",
      " [2.000000e+00 1.325380e+05 2.000000e+00 ... 5.300000e+01 9.700000e+01\n",
      "  2.153860e+05]\n",
      " ...\n",
      " [7.000000e+00 8.672200e+04 1.000000e+00 ... 1.130000e+02 8.900000e+01\n",
      "  4.058710e+05]\n",
      " [2.000000e+00 1.404780e+05 4.000000e+00 ... 1.120000e+02 1.280000e+02\n",
      "  7.439800e+04]\n",
      " [5.000000e+00 6.729500e+04 4.000000e+00 ... 9.900000e+01 9.600000e+01\n",
      "  4.149385e+05]], shape=(1000, 9), dtype=float64)\n"
     ]
    }
   ],
   "source": [
    "tensor_data = tf.constant(data)\n",
    "print(tensor_data)"
   ]
  },
  {
   "cell_type": "code",
   "execution_count": 9,
   "metadata": {},
   "outputs": [
    {
     "data": {
      "text/plain": [
       "<tf.Tensor: shape=(2,), dtype=int32, numpy=array([1000,    9])>"
      ]
     },
     "execution_count": 9,
     "metadata": {},
     "output_type": "execute_result"
    }
   ],
   "source": [
    "tf.shape(tensor_data)"
   ]
  },
  {
   "cell_type": "code",
   "execution_count": 10,
   "metadata": {},
   "outputs": [
    {
     "data": {
      "text/plain": [
       "<tf.Tensor: shape=(1000, 9), dtype=float32, numpy=\n",
       "array([[3.000000e+00, 7.894500e+04, 1.000000e+00, ..., 7.300000e+01,\n",
       "        1.230000e+02, 3.513180e+05],\n",
       "       [6.000000e+00, 1.172200e+05, 5.000000e+00, ..., 7.400000e+01,\n",
       "        9.500000e+01, 2.850015e+05],\n",
       "       [2.000000e+00, 1.325380e+05, 2.000000e+00, ..., 5.300000e+01,\n",
       "        9.700000e+01, 2.153860e+05],\n",
       "       ...,\n",
       "       [7.000000e+00, 8.672200e+04, 1.000000e+00, ..., 1.130000e+02,\n",
       "        8.900000e+01, 4.058710e+05],\n",
       "       [2.000000e+00, 1.404780e+05, 4.000000e+00, ..., 1.120000e+02,\n",
       "        1.280000e+02, 7.439800e+04],\n",
       "       [5.000000e+00, 6.729500e+04, 4.000000e+00, ..., 9.900000e+01,\n",
       "        9.600000e+01, 4.149385e+05]], dtype=float32)>"
      ]
     },
     "execution_count": 10,
     "metadata": {},
     "output_type": "execute_result"
    }
   ],
   "source": [
    "tensor_data = tf.cast(tensor_data,tf.float32)\n",
    "tensor_data"
   ]
  },
  {
   "cell_type": "code",
   "execution_count": 11,
   "metadata": {},
   "outputs": [
    {
     "name": "stdout",
     "output_type": "stream",
     "text": [
      "tf.Tensor(\n",
      "[[2.000000e+00 1.300040e+05 3.000000e+00 6.000000e+00 1.000000e+01\n",
      "  1.980000e+02 5.700000e+01 9.900000e+01 2.768055e+05]\n",
      " [4.000000e+00 9.886700e+04 2.000000e+00 8.000000e+00 1.500000e+01\n",
      "  1.960000e+02 5.900000e+01 1.210000e+02 3.873215e+05]\n",
      " [7.000000e+00 1.172400e+05 4.000000e+00 9.000000e+00 1.500000e+01\n",
      "  1.480000e+02 7.300000e+01 7.700000e+01 2.215100e+05]\n",
      " [5.000000e+00 9.436500e+04 1.000000e+00 4.000000e+00 8.000000e+00\n",
      "  1.940000e+02 8.100000e+01 9.500000e+01 3.004995e+05]\n",
      " [3.000000e+00 8.769700e+04 4.000000e+00 4.000000e+00 9.000000e+00\n",
      "  1.970000e+02 9.600000e+01 1.000000e+02 3.667320e+05]], shape=(5, 9), dtype=float32)\n"
     ]
    }
   ],
   "source": [
    "tensor_data = tf.random.shuffle(tensor_data)\n",
    "print(tensor_data[:5])"
   ]
  },
  {
   "cell_type": "code",
   "execution_count": 12,
   "metadata": {},
   "outputs": [
    {
     "data": {
      "text/plain": [
       "TensorShape([1000, 8])"
      ]
     },
     "execution_count": 12,
     "metadata": {},
     "output_type": "execute_result"
    }
   ],
   "source": [
    "X = tensor_data[:,0:-1]\n",
    "X.shape"
   ]
  },
  {
   "cell_type": "code",
   "execution_count": 13,
   "metadata": {},
   "outputs": [],
   "source": [
    "y = tensor_data[:,-1]"
   ]
  },
  {
   "cell_type": "code",
   "execution_count": 14,
   "metadata": {},
   "outputs": [
    {
     "data": {
      "text/plain": [
       "<tf.Tensor: shape=(1,), dtype=int32, numpy=array([1000])>"
      ]
     },
     "execution_count": 14,
     "metadata": {},
     "output_type": "execute_result"
    }
   ],
   "source": [
    "tf.shape(y)"
   ]
  },
  {
   "cell_type": "code",
   "execution_count": 15,
   "metadata": {},
   "outputs": [],
   "source": [
    "from tensorflow.keras.layers import Normalization"
   ]
  },
  {
   "cell_type": "code",
   "execution_count": 16,
   "metadata": {},
   "outputs": [],
   "source": [
    "normalizer = Normalization()"
   ]
  },
  {
   "cell_type": "code",
   "execution_count": 17,
   "metadata": {},
   "outputs": [],
   "source": [
    "normalizer.adapt(X)"
   ]
  },
  {
   "cell_type": "code",
   "execution_count": 18,
   "metadata": {},
   "outputs": [],
   "source": [
    "X = normalizer(X)"
   ]
  },
  {
   "cell_type": "code",
   "execution_count": 19,
   "metadata": {},
   "outputs": [
    {
     "data": {
      "text/plain": [
       "TensorShape([1000])"
      ]
     },
     "execution_count": 19,
     "metadata": {},
     "output_type": "execute_result"
    }
   ],
   "source": [
    "y.shape"
   ]
  },
  {
   "cell_type": "code",
   "execution_count": 20,
   "metadata": {},
   "outputs": [
    {
     "data": {
      "text/plain": [
       "array([[4.56099892e+00, 1.00274414e+05, 2.98799968e+00, 5.59200048e+00,\n",
       "        1.16249981e+01, 1.66892990e+02, 8.45459900e+01, 1.03422989e+02]],\n",
       "      dtype=float32)"
      ]
     },
     "execution_count": 20,
     "metadata": {},
     "output_type": "execute_result"
    }
   ],
   "source": [
    "x_mean = normalizer.mean.numpy()\n",
    "x_mean"
   ]
  },
  {
   "cell_type": "code",
   "execution_count": 21,
   "metadata": {},
   "outputs": [
    {
     "data": {
      "text/plain": [
       "array([[1.7182196e+00, 2.9135887e+04, 1.4020901e+00, 2.8230367e+00,\n",
       "        2.2294338e+00, 1.9278728e+01, 2.0506680e+01, 2.1048183e+01]],\n",
       "      dtype=float32)"
      ]
     },
     "execution_count": 21,
     "metadata": {},
     "output_type": "execute_result"
    }
   ],
   "source": [
    "x_std = normalizer.variance.numpy()**0.5\n",
    "x_std"
   ]
  },
  {
   "cell_type": "code",
   "execution_count": 22,
   "metadata": {},
   "outputs": [],
   "source": [
    "Train_ratio = 0.8\n",
    "val_ratio = 0.1\n",
    "test_ratio = 0.1\n",
    "dataset_size = len(X)"
   ]
  },
  {
   "cell_type": "code",
   "execution_count": 23,
   "metadata": {},
   "outputs": [
    {
     "name": "stdout",
     "output_type": "stream",
     "text": [
      "(800, 8)\n",
      "(800,)\n"
     ]
    }
   ],
   "source": [
    "X_train = X[:int(dataset_size*Train_ratio)]\n",
    "y_train = y[:int(dataset_size*Train_ratio)]\n",
    "print(X_train.shape)\n",
    "print(y_train.shape)"
   ]
  },
  {
   "cell_type": "code",
   "execution_count": 24,
   "metadata": {},
   "outputs": [
    {
     "name": "stdout",
     "output_type": "stream",
     "text": [
      "(100, 8)\n",
      "(100,)\n"
     ]
    }
   ],
   "source": [
    "X_val = X[int(dataset_size*Train_ratio):int(dataset_size*(Train_ratio + val_ratio))]\n",
    "y_val = y[int(dataset_size*Train_ratio):int(dataset_size*(Train_ratio + val_ratio))]\n",
    "print(X_val.shape)\n",
    "print(y_val.shape)"
   ]
  },
  {
   "cell_type": "code",
   "execution_count": 25,
   "metadata": {},
   "outputs": [
    {
     "name": "stdout",
     "output_type": "stream",
     "text": [
      "(100, 8)\n",
      "(100,)\n"
     ]
    }
   ],
   "source": [
    "X_test = X[int(dataset_size*(Train_ratio + val_ratio)):]\n",
    "y_test = y[int(dataset_size*(Train_ratio + val_ratio)):]\n",
    "print(X_test.shape)\n",
    "print(y_test.shape)"
   ]
  },
  {
   "cell_type": "code",
   "execution_count": 26,
   "metadata": {},
   "outputs": [
    {
     "data": {
      "text/plain": [
       "tensorflow.python.framework.ops.EagerTensor"
      ]
     },
     "execution_count": 26,
     "metadata": {},
     "output_type": "execute_result"
    }
   ],
   "source": [
    "type(X_train)"
   ]
  },
  {
   "cell_type": "code",
   "execution_count": 27,
   "metadata": {},
   "outputs": [],
   "source": [
    "model = tf.keras.Sequential([\n",
    "    InputLayer(input_shape = (8,)),\n",
    "    Dense(128, activation = \"relu\"),\n",
    "    Dense(128, activation = \"relu\"),\n",
    "    Dense(128, activation = \"relu\"),\n",
    "    Dense(1)\n",
    "])"
   ]
  },
  {
   "cell_type": "code",
   "execution_count": 28,
   "metadata": {},
   "outputs": [
    {
     "name": "stdout",
     "output_type": "stream",
     "text": [
      "You must install pydot (`pip install pydot`) and install graphviz (see instructions at https://graphviz.gitlab.io/download/) for plot_model to work.\n"
     ]
    }
   ],
   "source": [
    "tf.keras.utils.plot_model(model,to_file = \"model.png\",show_shapes = True)"
   ]
  },
  {
   "cell_type": "code",
   "execution_count": 29,
   "metadata": {},
   "outputs": [],
   "source": [
    "model.compile(loss = MeanAbsoluteError(), optimizer = Adam(learning_rate = 1),metrics = MeanSquaredError())"
   ]
  },
  {
   "cell_type": "code",
   "execution_count": 30,
   "metadata": {},
   "outputs": [
    {
     "name": "stdout",
     "output_type": "stream",
     "text": [
      "Model: \"sequential\"\n",
      "_________________________________________________________________\n",
      " Layer (type)                Output Shape              Param #   \n",
      "=================================================================\n",
      " dense (Dense)               (None, 128)               1152      \n",
      "                                                                 \n",
      " dense_1 (Dense)             (None, 128)               16512     \n",
      "                                                                 \n",
      " dense_2 (Dense)             (None, 128)               16512     \n",
      "                                                                 \n",
      " dense_3 (Dense)             (None, 1)                 129       \n",
      "                                                                 \n",
      "=================================================================\n",
      "Total params: 34,305\n",
      "Trainable params: 34,305\n",
      "Non-trainable params: 0\n",
      "_________________________________________________________________\n"
     ]
    }
   ],
   "source": [
    "model.summary()"
   ]
  },
  {
   "cell_type": "code",
   "execution_count": 31,
   "metadata": {},
   "outputs": [
    {
     "name": "stdout",
     "output_type": "stream",
     "text": [
      "Epoch 1/100\n",
      "25/25 [==============================] - 2s 16ms/step - loss: 181681.6875 - mean_squared_error: 51573669888.0000 - val_loss: 53710.8750 - val_mean_squared_error: 6326109184.0000\n",
      "Epoch 2/100\n",
      "25/25 [==============================] - 0s 4ms/step - loss: 67689.5078 - mean_squared_error: 7210827264.0000 - val_loss: 42209.2969 - val_mean_squared_error: 2622919936.0000\n",
      "Epoch 3/100\n",
      "25/25 [==============================] - 0s 4ms/step - loss: 49510.4766 - mean_squared_error: 3779257344.0000 - val_loss: 43165.7617 - val_mean_squared_error: 3440394752.0000\n",
      "Epoch 4/100\n",
      "25/25 [==============================] - 0s 4ms/step - loss: 52822.2031 - mean_squared_error: 4238804224.0000 - val_loss: 39192.4805 - val_mean_squared_error: 2540199424.0000\n",
      "Epoch 5/100\n",
      "25/25 [==============================] - 0s 4ms/step - loss: 44850.9297 - mean_squared_error: 3114413824.0000 - val_loss: 44012.6445 - val_mean_squared_error: 3439590912.0000\n",
      "Epoch 6/100\n",
      "25/25 [==============================] - 0s 4ms/step - loss: 48229.3945 - mean_squared_error: 3644125696.0000 - val_loss: 48979.7383 - val_mean_squared_error: 5057035264.0000\n",
      "Epoch 7/100\n",
      "25/25 [==============================] - 0s 3ms/step - loss: 52408.2656 - mean_squared_error: 4219368960.0000 - val_loss: 50452.6367 - val_mean_squared_error: 4633904640.0000\n",
      "Epoch 8/100\n",
      "25/25 [==============================] - 0s 3ms/step - loss: 41841.6719 - mean_squared_error: 2720269824.0000 - val_loss: 43173.6562 - val_mean_squared_error: 3522250240.0000\n",
      "Epoch 9/100\n",
      "25/25 [==============================] - 0s 3ms/step - loss: 42896.9883 - mean_squared_error: 2815103744.0000 - val_loss: 39288.9414 - val_mean_squared_error: 2855033344.0000\n",
      "Epoch 10/100\n",
      "25/25 [==============================] - 0s 3ms/step - loss: 43802.0312 - mean_squared_error: 2942766848.0000 - val_loss: 96900.0703 - val_mean_squared_error: 14451872768.0000\n",
      "Epoch 11/100\n",
      "25/25 [==============================] - 0s 3ms/step - loss: 57004.2500 - mean_squared_error: 5162243072.0000 - val_loss: 42816.9219 - val_mean_squared_error: 2808546304.0000\n",
      "Epoch 12/100\n",
      "25/25 [==============================] - 0s 3ms/step - loss: 40232.9961 - mean_squared_error: 2518033152.0000 - val_loss: 58199.4102 - val_mean_squared_error: 5999454208.0000\n",
      "Epoch 13/100\n",
      "25/25 [==============================] - 0s 4ms/step - loss: 50029.1406 - mean_squared_error: 3859923712.0000 - val_loss: 58680.6289 - val_mean_squared_error: 5848436736.0000\n",
      "Epoch 14/100\n",
      "25/25 [==============================] - 0s 3ms/step - loss: 42810.9062 - mean_squared_error: 2846977280.0000 - val_loss: 48920.4961 - val_mean_squared_error: 4214878976.0000\n",
      "Epoch 15/100\n",
      "25/25 [==============================] - 0s 3ms/step - loss: 39226.5469 - mean_squared_error: 2371277568.0000 - val_loss: 41969.1445 - val_mean_squared_error: 3305240064.0000\n",
      "Epoch 16/100\n",
      "25/25 [==============================] - 0s 4ms/step - loss: 44550.7617 - mean_squared_error: 3087193856.0000 - val_loss: 72971.5078 - val_mean_squared_error: 10875809792.0000\n",
      "Epoch 17/100\n",
      "25/25 [==============================] - 0s 4ms/step - loss: 46995.3945 - mean_squared_error: 3431506688.0000 - val_loss: 44037.5898 - val_mean_squared_error: 3482368512.0000\n",
      "Epoch 18/100\n",
      "25/25 [==============================] - 0s 4ms/step - loss: 40656.7812 - mean_squared_error: 2655749632.0000 - val_loss: 37087.7656 - val_mean_squared_error: 2263775744.0000\n",
      "Epoch 19/100\n",
      "25/25 [==============================] - 0s 4ms/step - loss: 37278.9766 - mean_squared_error: 2113932672.0000 - val_loss: 43504.4102 - val_mean_squared_error: 2679683584.0000\n",
      "Epoch 20/100\n",
      "25/25 [==============================] - 0s 4ms/step - loss: 37068.2695 - mean_squared_error: 2101820928.0000 - val_loss: 41434.4922 - val_mean_squared_error: 2841569024.0000\n",
      "Epoch 21/100\n",
      "25/25 [==============================] - 0s 4ms/step - loss: 41113.7305 - mean_squared_error: 2596466688.0000 - val_loss: 43237.4844 - val_mean_squared_error: 2974620672.0000\n",
      "Epoch 22/100\n",
      "25/25 [==============================] - 0s 3ms/step - loss: 47637.3750 - mean_squared_error: 3609111808.0000 - val_loss: 40656.2578 - val_mean_squared_error: 2303148288.0000\n",
      "Epoch 23/100\n",
      "25/25 [==============================] - 0s 4ms/step - loss: 41499.2188 - mean_squared_error: 2701264896.0000 - val_loss: 40454.2109 - val_mean_squared_error: 2443069952.0000\n",
      "Epoch 24/100\n",
      "25/25 [==============================] - 0s 4ms/step - loss: 37427.7812 - mean_squared_error: 2204590080.0000 - val_loss: 41347.1797 - val_mean_squared_error: 2277264896.0000\n",
      "Epoch 25/100\n",
      "25/25 [==============================] - 0s 5ms/step - loss: 42181.0000 - mean_squared_error: 2729349376.0000 - val_loss: 42416.5898 - val_mean_squared_error: 2822821888.0000\n",
      "Epoch 26/100\n",
      "25/25 [==============================] - 0s 5ms/step - loss: 39561.4219 - mean_squared_error: 2401961984.0000 - val_loss: 43928.2188 - val_mean_squared_error: 3362144768.0000\n",
      "Epoch 27/100\n",
      "25/25 [==============================] - 0s 4ms/step - loss: 35926.1992 - mean_squared_error: 1987972736.0000 - val_loss: 42997.6133 - val_mean_squared_error: 2467508736.0000\n",
      "Epoch 28/100\n",
      "25/25 [==============================] - 0s 3ms/step - loss: 35176.0078 - mean_squared_error: 1877354368.0000 - val_loss: 39532.0742 - val_mean_squared_error: 2331887616.0000\n",
      "Epoch 29/100\n",
      "25/25 [==============================] - 0s 3ms/step - loss: 35750.3555 - mean_squared_error: 1951439104.0000 - val_loss: 46436.5703 - val_mean_squared_error: 3925275136.0000\n",
      "Epoch 30/100\n",
      "25/25 [==============================] - 0s 4ms/step - loss: 34650.7344 - mean_squared_error: 1824714368.0000 - val_loss: 49051.5742 - val_mean_squared_error: 4801274880.0000\n",
      "Epoch 31/100\n",
      "25/25 [==============================] - 0s 4ms/step - loss: 35750.9727 - mean_squared_error: 2008436736.0000 - val_loss: 38227.2617 - val_mean_squared_error: 2346106880.0000\n",
      "Epoch 32/100\n",
      "25/25 [==============================] - 0s 4ms/step - loss: 36472.8672 - mean_squared_error: 2035533312.0000 - val_loss: 37227.5977 - val_mean_squared_error: 2234672128.0000\n",
      "Epoch 33/100\n",
      "25/25 [==============================] - 0s 3ms/step - loss: 34023.1836 - mean_squared_error: 1799678080.0000 - val_loss: 37976.4414 - val_mean_squared_error: 2206963200.0000\n",
      "Epoch 34/100\n",
      "25/25 [==============================] - 0s 4ms/step - loss: 42787.5898 - mean_squared_error: 2824252672.0000 - val_loss: 40971.9414 - val_mean_squared_error: 2473012480.0000\n",
      "Epoch 35/100\n",
      "25/25 [==============================] - 0s 5ms/step - loss: 37381.7695 - mean_squared_error: 2221570304.0000 - val_loss: 41822.5781 - val_mean_squared_error: 2600006144.0000\n",
      "Epoch 36/100\n",
      "25/25 [==============================] - 0s 4ms/step - loss: 43721.0312 - mean_squared_error: 2925056256.0000 - val_loss: 47623.4766 - val_mean_squared_error: 3737447936.0000\n",
      "Epoch 37/100\n",
      "25/25 [==============================] - 0s 7ms/step - loss: 36387.2188 - mean_squared_error: 2047558144.0000 - val_loss: 43624.0234 - val_mean_squared_error: 3029084672.0000\n",
      "Epoch 38/100\n",
      "25/25 [==============================] - 0s 8ms/step - loss: 35429.3594 - mean_squared_error: 1927561600.0000 - val_loss: 62577.0352 - val_mean_squared_error: 5410691584.0000\n",
      "Epoch 39/100\n",
      "25/25 [==============================] - 0s 8ms/step - loss: 39075.1953 - mean_squared_error: 2391755776.0000 - val_loss: 38914.7734 - val_mean_squared_error: 2378732544.0000\n",
      "Epoch 40/100\n",
      "25/25 [==============================] - 0s 7ms/step - loss: 36565.7969 - mean_squared_error: 2061759488.0000 - val_loss: 42410.1953 - val_mean_squared_error: 3355484928.0000\n",
      "Epoch 41/100\n",
      "25/25 [==============================] - 0s 7ms/step - loss: 34455.0156 - mean_squared_error: 1890165376.0000 - val_loss: 39414.5352 - val_mean_squared_error: 2295584256.0000\n",
      "Epoch 42/100\n",
      "25/25 [==============================] - 0s 8ms/step - loss: 36742.2500 - mean_squared_error: 2094251648.0000 - val_loss: 38911.9297 - val_mean_squared_error: 2166363904.0000\n",
      "Epoch 43/100\n",
      "25/25 [==============================] - 0s 8ms/step - loss: 36996.3633 - mean_squared_error: 2116965632.0000 - val_loss: 45482.9219 - val_mean_squared_error: 3203984384.0000\n",
      "Epoch 44/100\n",
      "25/25 [==============================] - 0s 8ms/step - loss: 36359.2695 - mean_squared_error: 2070258944.0000 - val_loss: 41186.8867 - val_mean_squared_error: 2648427520.0000\n",
      "Epoch 45/100\n",
      "25/25 [==============================] - 0s 8ms/step - loss: 33384.4648 - mean_squared_error: 1694879232.0000 - val_loss: 38993.0312 - val_mean_squared_error: 2310432256.0000\n",
      "Epoch 46/100\n",
      "25/25 [==============================] - 0s 7ms/step - loss: 38619.9258 - mean_squared_error: 2374341376.0000 - val_loss: 47210.3789 - val_mean_squared_error: 4304195072.0000\n",
      "Epoch 47/100\n",
      "25/25 [==============================] - 0s 8ms/step - loss: 48137.9766 - mean_squared_error: 3623108352.0000 - val_loss: 58400.1797 - val_mean_squared_error: 5096984576.0000\n",
      "Epoch 48/100\n",
      "25/25 [==============================] - 0s 8ms/step - loss: 37137.9492 - mean_squared_error: 2188289536.0000 - val_loss: 40465.7227 - val_mean_squared_error: 2393868288.0000\n",
      "Epoch 49/100\n",
      "25/25 [==============================] - 0s 7ms/step - loss: 39931.2969 - mean_squared_error: 2449013760.0000 - val_loss: 59032.3984 - val_mean_squared_error: 5313780224.0000\n",
      "Epoch 50/100\n",
      "25/25 [==============================] - 0s 7ms/step - loss: 41499.8555 - mean_squared_error: 2649084928.0000 - val_loss: 38659.4609 - val_mean_squared_error: 2224573952.0000\n",
      "Epoch 51/100\n",
      "25/25 [==============================] - 0s 7ms/step - loss: 36917.6602 - mean_squared_error: 2125391360.0000 - val_loss: 44472.2891 - val_mean_squared_error: 2673005056.0000\n",
      "Epoch 52/100\n",
      "25/25 [==============================] - 0s 7ms/step - loss: 39943.5078 - mean_squared_error: 2500219136.0000 - val_loss: 48492.0391 - val_mean_squared_error: 3132222464.0000\n",
      "Epoch 53/100\n",
      "25/25 [==============================] - 0s 7ms/step - loss: 38967.1406 - mean_squared_error: 2336524032.0000 - val_loss: 38657.6367 - val_mean_squared_error: 2016107264.0000\n",
      "Epoch 54/100\n",
      "25/25 [==============================] - 0s 8ms/step - loss: 36963.4883 - mean_squared_error: 2144759296.0000 - val_loss: 42066.0117 - val_mean_squared_error: 2683753984.0000\n",
      "Epoch 55/100\n",
      "25/25 [==============================] - 0s 8ms/step - loss: 34923.2266 - mean_squared_error: 1913592320.0000 - val_loss: 45164.1602 - val_mean_squared_error: 3195835392.0000\n",
      "Epoch 56/100\n",
      "25/25 [==============================] - 0s 8ms/step - loss: 34202.0039 - mean_squared_error: 1817994880.0000 - val_loss: 38639.7109 - val_mean_squared_error: 2241744384.0000\n",
      "Epoch 57/100\n",
      "25/25 [==============================] - 0s 7ms/step - loss: 36211.7188 - mean_squared_error: 2051970304.0000 - val_loss: 38732.4531 - val_mean_squared_error: 2530939904.0000\n",
      "Epoch 58/100\n",
      "25/25 [==============================] - 0s 7ms/step - loss: 34726.5742 - mean_squared_error: 1823912320.0000 - val_loss: 40697.7344 - val_mean_squared_error: 2801524224.0000\n",
      "Epoch 59/100\n",
      "25/25 [==============================] - 0s 8ms/step - loss: 36003.9297 - mean_squared_error: 2079692544.0000 - val_loss: 43074.7891 - val_mean_squared_error: 3602044416.0000\n",
      "Epoch 60/100\n",
      "25/25 [==============================] - 0s 9ms/step - loss: 36014.1914 - mean_squared_error: 2010101248.0000 - val_loss: 51024.5508 - val_mean_squared_error: 4069293568.0000\n",
      "Epoch 61/100\n",
      "25/25 [==============================] - 0s 7ms/step - loss: 41854.3828 - mean_squared_error: 2741511424.0000 - val_loss: 41615.7891 - val_mean_squared_error: 3391483392.0000\n",
      "Epoch 62/100\n",
      "25/25 [==============================] - 0s 8ms/step - loss: 40719.5547 - mean_squared_error: 2700592128.0000 - val_loss: 44768.3164 - val_mean_squared_error: 3388304896.0000\n",
      "Epoch 63/100\n",
      "25/25 [==============================] - 0s 7ms/step - loss: 37856.5742 - mean_squared_error: 2230529024.0000 - val_loss: 40380.0586 - val_mean_squared_error: 2406615552.0000\n",
      "Epoch 64/100\n",
      "25/25 [==============================] - 0s 7ms/step - loss: 33612.3281 - mean_squared_error: 1764428160.0000 - val_loss: 43055.9961 - val_mean_squared_error: 2671501824.0000\n",
      "Epoch 65/100\n",
      "25/25 [==============================] - 0s 8ms/step - loss: 36660.0000 - mean_squared_error: 2055107328.0000 - val_loss: 40861.4570 - val_mean_squared_error: 2306002688.0000\n",
      "Epoch 66/100\n",
      "25/25 [==============================] - 0s 8ms/step - loss: 33937.4062 - mean_squared_error: 1763749376.0000 - val_loss: 42370.4883 - val_mean_squared_error: 2850566656.0000\n",
      "Epoch 67/100\n",
      "25/25 [==============================] - 0s 7ms/step - loss: 37065.3047 - mean_squared_error: 2088480896.0000 - val_loss: 38425.1914 - val_mean_squared_error: 2295006464.0000\n",
      "Epoch 68/100\n",
      "25/25 [==============================] - 0s 7ms/step - loss: 32988.3008 - mean_squared_error: 1694716416.0000 - val_loss: 43687.6094 - val_mean_squared_error: 2900095488.0000\n",
      "Epoch 69/100\n",
      "25/25 [==============================] - 0s 8ms/step - loss: 34969.5547 - mean_squared_error: 1898685568.0000 - val_loss: 43953.0781 - val_mean_squared_error: 2680573440.0000\n",
      "Epoch 70/100\n",
      "25/25 [==============================] - 0s 7ms/step - loss: 34421.0742 - mean_squared_error: 1910861312.0000 - val_loss: 43970.8945 - val_mean_squared_error: 3457308160.0000\n",
      "Epoch 71/100\n",
      "25/25 [==============================] - 0s 7ms/step - loss: 36987.3789 - mean_squared_error: 2118484096.0000 - val_loss: 39155.4883 - val_mean_squared_error: 2311500800.0000\n",
      "Epoch 72/100\n",
      "25/25 [==============================] - 0s 7ms/step - loss: 34630.5391 - mean_squared_error: 1923285120.0000 - val_loss: 39414.4766 - val_mean_squared_error: 2588844544.0000\n",
      "Epoch 73/100\n",
      "25/25 [==============================] - 0s 7ms/step - loss: 33075.6016 - mean_squared_error: 1706636800.0000 - val_loss: 38625.7461 - val_mean_squared_error: 2379511552.0000\n",
      "Epoch 74/100\n",
      "25/25 [==============================] - 0s 8ms/step - loss: 35134.0391 - mean_squared_error: 1943835392.0000 - val_loss: 60387.5938 - val_mean_squared_error: 5154449920.0000\n",
      "Epoch 75/100\n",
      "25/25 [==============================] - 0s 8ms/step - loss: 37306.8086 - mean_squared_error: 2148780288.0000 - val_loss: 40516.4023 - val_mean_squared_error: 2258315008.0000\n",
      "Epoch 76/100\n",
      "25/25 [==============================] - 0s 8ms/step - loss: 31906.3203 - mean_squared_error: 1669461760.0000 - val_loss: 40099.1719 - val_mean_squared_error: 2782601216.0000\n",
      "Epoch 77/100\n",
      "25/25 [==============================] - 0s 9ms/step - loss: 45388.1797 - mean_squared_error: 3237403136.0000 - val_loss: 47415.6484 - val_mean_squared_error: 4089310208.0000\n",
      "Epoch 78/100\n",
      "25/25 [==============================] - 0s 7ms/step - loss: 40403.9766 - mean_squared_error: 2455212288.0000 - val_loss: 41919.5273 - val_mean_squared_error: 2756360192.0000\n",
      "Epoch 79/100\n",
      "25/25 [==============================] - 0s 7ms/step - loss: 32949.5508 - mean_squared_error: 1694526336.0000 - val_loss: 42712.1992 - val_mean_squared_error: 2782503424.0000\n",
      "Epoch 80/100\n",
      "25/25 [==============================] - 0s 7ms/step - loss: 37570.5820 - mean_squared_error: 2218164992.0000 - val_loss: 53933.4297 - val_mean_squared_error: 4347154432.0000\n",
      "Epoch 81/100\n",
      "25/25 [==============================] - 0s 7ms/step - loss: 38299.4766 - mean_squared_error: 2326592512.0000 - val_loss: 41108.6523 - val_mean_squared_error: 3004776960.0000\n",
      "Epoch 82/100\n",
      "25/25 [==============================] - 0s 7ms/step - loss: 35194.3281 - mean_squared_error: 1952261888.0000 - val_loss: 46218.4805 - val_mean_squared_error: 3573586688.0000\n",
      "Epoch 83/100\n",
      "25/25 [==============================] - 0s 7ms/step - loss: 40619.0273 - mean_squared_error: 2544931072.0000 - val_loss: 40340.1133 - val_mean_squared_error: 2206375680.0000\n",
      "Epoch 84/100\n",
      "25/25 [==============================] - 0s 6ms/step - loss: 35622.1211 - mean_squared_error: 2028734208.0000 - val_loss: 45243.6016 - val_mean_squared_error: 3061092608.0000\n",
      "Epoch 85/100\n",
      "25/25 [==============================] - 0s 7ms/step - loss: 35651.5859 - mean_squared_error: 2011249920.0000 - val_loss: 44960.6562 - val_mean_squared_error: 3035856384.0000\n",
      "Epoch 86/100\n",
      "25/25 [==============================] - 0s 3ms/step - loss: 32889.1602 - mean_squared_error: 1712565632.0000 - val_loss: 42289.8359 - val_mean_squared_error: 2574807296.0000\n",
      "Epoch 87/100\n",
      "25/25 [==============================] - 0s 5ms/step - loss: 36111.1836 - mean_squared_error: 2123784960.0000 - val_loss: 40646.8164 - val_mean_squared_error: 2477900800.0000\n",
      "Epoch 88/100\n",
      "25/25 [==============================] - 0s 3ms/step - loss: 33164.6016 - mean_squared_error: 1681249536.0000 - val_loss: 39917.5273 - val_mean_squared_error: 2092704000.0000\n",
      "Epoch 89/100\n",
      "25/25 [==============================] - 0s 3ms/step - loss: 31604.8223 - mean_squared_error: 1576779136.0000 - val_loss: 40650.8398 - val_mean_squared_error: 2343425280.0000\n",
      "Epoch 90/100\n",
      "25/25 [==============================] - 0s 3ms/step - loss: 31906.7324 - mean_squared_error: 1642938880.0000 - val_loss: 42846.9844 - val_mean_squared_error: 3156432896.0000\n",
      "Epoch 91/100\n",
      "25/25 [==============================] - 0s 3ms/step - loss: 32666.7871 - mean_squared_error: 1671809152.0000 - val_loss: 40780.1758 - val_mean_squared_error: 2836651520.0000\n",
      "Epoch 92/100\n",
      "25/25 [==============================] - 0s 3ms/step - loss: 32135.0332 - mean_squared_error: 1661202304.0000 - val_loss: 40933.4766 - val_mean_squared_error: 2746165504.0000\n",
      "Epoch 93/100\n",
      "25/25 [==============================] - 0s 3ms/step - loss: 30556.4004 - mean_squared_error: 1498216576.0000 - val_loss: 39886.4727 - val_mean_squared_error: 2769286656.0000\n",
      "Epoch 94/100\n",
      "25/25 [==============================] - 0s 3ms/step - loss: 35314.1797 - mean_squared_error: 1994135040.0000 - val_loss: 50290.3750 - val_mean_squared_error: 3825796352.0000\n",
      "Epoch 95/100\n",
      "25/25 [==============================] - 0s 4ms/step - loss: 33502.2812 - mean_squared_error: 1784367360.0000 - val_loss: 44988.8555 - val_mean_squared_error: 3722618368.0000\n",
      "Epoch 96/100\n",
      "25/25 [==============================] - 0s 4ms/step - loss: 35951.6211 - mean_squared_error: 2019237760.0000 - val_loss: 54447.0938 - val_mean_squared_error: 5207685120.0000\n",
      "Epoch 97/100\n",
      "25/25 [==============================] - 0s 4ms/step - loss: 35430.0039 - mean_squared_error: 1941348736.0000 - val_loss: 41276.7188 - val_mean_squared_error: 2520205312.0000\n",
      "Epoch 98/100\n",
      "25/25 [==============================] - 0s 4ms/step - loss: 32849.4180 - mean_squared_error: 1758217472.0000 - val_loss: 43526.7344 - val_mean_squared_error: 3261235712.0000\n",
      "Epoch 99/100\n",
      "25/25 [==============================] - 0s 3ms/step - loss: 36703.7344 - mean_squared_error: 2159569920.0000 - val_loss: 38513.8789 - val_mean_squared_error: 2213158912.0000\n",
      "Epoch 100/100\n",
      "25/25 [==============================] - 0s 3ms/step - loss: 34709.1367 - mean_squared_error: 1862822016.0000 - val_loss: 39809.1719 - val_mean_squared_error: 2326293760.0000\n"
     ]
    }
   ],
   "source": [
    "history = model.fit(X_train,y_train,validation_data = (X_val,y_val),epochs = 100,verbose = 1) "
   ]
  },
  {
   "cell_type": "code",
   "execution_count": 32,
   "metadata": {},
   "outputs": [
    {
     "data": {
      "image/png": "[encoded data removed]",
      "text/plain": [
       "<Figure size 640x480 with 1 Axes>"
      ]
     },
     "metadata": {},
     "output_type": "display_data"
    }
   ],
   "source": [
    "plt.plot(history.history['loss'])\n",
    "plt.plot(history.history[\"val_loss\"])\n",
    "plt.title(\"Model Loss\")\n",
    "plt.ylabel(\"loss\")\n",
    "plt.xlabel(\"epoch\")\n",
    "plt.legend([\"train\",\"val_loss\"])\n",
    "plt.show()"
   ]
  },
  {
   "cell_type": "code",
   "execution_count": 33,
   "metadata": {},
   "outputs": [
    {
     "data": {
      "image/png": "[encoded data removed]",
      "text/plain": [
       "<Figure size 640x480 with 1 Axes>"
      ]
     },
     "metadata": {},
     "output_type": "display_data"
    }
   ],
   "source": [
    "plt.plot(history.history['mean_squared_error'])\n",
    "plt.plot(history.history['val_mean_squared_error'])\n",
    "plt.title('model performance')\n",
    "plt.ylabel('rmse')\n",
    "plt.xlabel('epoch')\n",
    "plt.legend(['train', 'val'])\n",
    "plt.show()"
   ]
  },
  {
   "cell_type": "code",
   "execution_count": 34,
   "metadata": {},
   "outputs": [
    {
     "data": {
      "text/plain": [
       "<tf.Tensor: shape=(100,), dtype=float32, numpy=\n",
       "array([318858. , 486590. , 397522. , 337257. , 179711.5, 167978.5,\n",
       "       441865. , 221692. , 555336.5, 354722. , 383875.5, 151080.5,\n",
       "       219462.5, 508087. , 501920.5, 244229. , 328863. , 414938.5,\n",
       "       242709.5, 150074. , 350647.5, 456653.5, 360410. , 171620. ,\n",
       "       132159. , 217446. , 126791.5, 500903. , 265799.5, 456154.5,\n",
       "       218665.5, 340961.5, 370175. , 354900. , 272437.5, 255901.5,\n",
       "       136824.5, 266341. , 244295.5, 178642.5, 207480.5, 239214. ,\n",
       "       278759.5, 499185.5, 401745. , 538075.5, 202503. , 136079. ,\n",
       "       289049.5, 385031. , 459914.5, 337917. , 342427. ,  61928.5,\n",
       "        46920.5,  53470.5, 312703. , 381960. , 344405.5, 312323.5,\n",
       "       528607.5, 239018. , 313619.5, 408203.5, 496514. , 295002. ,\n",
       "       217562. , 287675. , 421655.5, 401120.5, 237954. , 496671. ,\n",
       "       146568. , 174399. , 275757. , 333133. , 400027.5, 253055. ,\n",
       "       467395. , 303506.5, 449650. , 484480.5, 324373. , 400444.5,\n",
       "       325176. , 126957.5, 172234.5, 268200.5, 163814. , 279833.5,\n",
       "       339888. , 135874. , 520084. , 385248.5, 451290. , 492171. ,\n",
       "       451307.5, 355175. , 299645. , 408405.5], dtype=float32)>"
      ]
     },
     "execution_count": 34,
     "metadata": {},
     "output_type": "execute_result"
    }
   ],
   "source": [
    "y_test"
   ]
  },
  {
   "cell_type": "code",
   "execution_count": 35,
   "metadata": {},
   "outputs": [
    {
     "name": "stdout",
     "output_type": "stream",
     "text": [
      "4/4 [==============================] - 0s 2ms/step - loss: 38094.1875 - mean_squared_error: 2244541696.0000\n"
     ]
    },
    {
     "data": {
      "text/plain": [
       "[38094.1875, 2244541696.0]"
      ]
     },
     "execution_count": 35,
     "metadata": {},
     "output_type": "execute_result"
    }
   ],
   "source": [
    "model.evaluate(X_test,y_test)"
   ]
  },
  {
   "cell_type": "code",
   "execution_count": 36,
   "metadata": {},
   "outputs": [
    {
     "data": {
      "text/plain": [
       "TensorShape([100, 8])"
      ]
     },
     "execution_count": 36,
     "metadata": {},
     "output_type": "execute_result"
    }
   ],
   "source": [
    "X_test.shape"
   ]
  },
  {
   "cell_type": "code",
   "execution_count": 37,
   "metadata": {},
   "outputs": [
    {
     "data": {
      "text/plain": [
       "<tf.Tensor: shape=(8,), dtype=float32, numpy=\n",
       "array([ 1.4194932 , -1.2622377 , -1.417883  ,  1.561439  , -0.72888374,\n",
       "        0.31677452,  1.1437254 , -1.4929074 ], dtype=float32)>"
      ]
     },
     "execution_count": 37,
     "metadata": {},
     "output_type": "execute_result"
    }
   ],
   "source": [
    "X_test[1]"
   ]
  },
  {
   "cell_type": "code",
   "execution_count": 38,
   "metadata": {},
   "outputs": [
    {
     "name": "stdout",
     "output_type": "stream",
     "text": [
      "1/1 [==============================] - 0s 108ms/step\n"
     ]
    },
    {
     "data": {
      "text/plain": [
       "array([[476584.97]], dtype=float32)"
      ]
     },
     "execution_count": 38,
     "metadata": {},
     "output_type": "execute_result"
    }
   ],
   "source": [
    "model.predict(tf.expand_dims(X_test[1], axis = 0 ))"
   ]
  },
  {
   "cell_type": "code",
   "execution_count": 39,
   "metadata": {},
   "outputs": [],
   "source": [
    "model.save(\"car_price_model.h5\")"
   ]
  },
  {
   "cell_type": "code",
   "execution_count": 40,
   "metadata": {},
   "outputs": [],
   "source": [
    "import tensorflow as tf"
   ]
  },
  {
   "cell_type": "code",
   "execution_count": 46,
   "metadata": {},
   "outputs": [],
   "source": [
    "loaded_model = tf.keras.models.load_model('car_price_model.h5', custom_objects={'MeanSquaredError': tf.keras.losses.MeanSquaredError()})"
   ]
  }
 ],
 "metadata": {
  "kernelspec": {
   "display_name": "master",
   "language": "python",
   "name": "python3"
  },
  "language_info": {
   "codemirror_mode": {
    "name": "ipython",
    "version": 3
   },
   "file_extension": ".py",
   "mimetype": "text/x-python",
   "name": "python",
   "nbconvert_exporter": "python",
   "pygments_lexer": "ipython3",
   "version": "3.10.13"
  }
 },
 "nbformat": 4,
 "nbformat_minor": 2
}
